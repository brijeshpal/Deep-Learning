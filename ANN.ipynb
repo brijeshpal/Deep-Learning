{
  "nbformat": 4,
  "nbformat_minor": 0,
  "metadata": {
    "colab": {
      "provenance": [],
      "gpuType": "T4",
      "mount_file_id": "1kp2hDG_wXzI8PKsXvTn_7Lng0wi0NUt7",
      "authorship_tag": "ABX9TyP0QxVEOjmyt5sO5R0kL93Z",
      "include_colab_link": true
    },
    "kernelspec": {
      "name": "python3",
      "display_name": "Python 3"
    },
    "language_info": {
      "name": "python"
    },
    "accelerator": "GPU"
  },
  "cells": [
    {
      "cell_type": "markdown",
      "metadata": {
        "id": "view-in-github",
        "colab_type": "text"
      },
      "source": [
        "<a href=\"https://colab.research.google.com/github/brijeshpal/Deep-Learning/blob/main/ANN.ipynb\" target=\"_parent\"><img src=\"https://colab.research.google.com/assets/colab-badge.svg\" alt=\"Open In Colab\"/></a>"
      ]
    },
    {
      "cell_type": "markdown",
      "source": [
        "Test Wheather GPU is working"
      ],
      "metadata": {
        "id": "B-mIabxQDgIy"
      }
    },
    {
      "cell_type": "code",
      "source": [
        "import tensorflow as tf\n",
        "tf.test.gpu_device_name()"
      ],
      "metadata": {
        "colab": {
          "base_uri": "https://localhost:8080/",
          "height": 36
        },
        "id": "071X8GyCDoab",
        "outputId": "b9d44359-2aa9-4725-cc07-7f500ae9b9c3"
      },
      "execution_count": 1,
      "outputs": [
        {
          "output_type": "execute_result",
          "data": {
            "text/plain": [
              "'/device:GPU:0'"
            ],
            "application/vnd.google.colaboratory.intrinsic+json": {
              "type": "string"
            }
          },
          "metadata": {},
          "execution_count": 1
        }
      ]
    },
    {
      "cell_type": "markdown",
      "source": [
        "**Which GPU we are using?**"
      ],
      "metadata": {
        "id": "U8drV6efEFB6"
      }
    },
    {
      "cell_type": "code",
      "source": [
        "from tensorflow.python.client import device_lib"
      ],
      "metadata": {
        "id": "zQJcfnA7EPmp"
      },
      "execution_count": 2,
      "outputs": []
    },
    {
      "cell_type": "code",
      "source": [
        "device_lib.list_local_devices()"
      ],
      "metadata": {
        "colab": {
          "base_uri": "https://localhost:8080/"
        },
        "id": "ToWu0FrcEff-",
        "outputId": "b1e09bbd-67b0-40cb-e6b9-89a08defe60b"
      },
      "execution_count": 3,
      "outputs": [
        {
          "output_type": "execute_result",
          "data": {
            "text/plain": [
              "[name: \"/device:CPU:0\"\n",
              " device_type: \"CPU\"\n",
              " memory_limit: 268435456\n",
              " locality {\n",
              " }\n",
              " incarnation: 16047081973871697832\n",
              " xla_global_id: -1,\n",
              " name: \"/device:GPU:0\"\n",
              " device_type: \"GPU\"\n",
              " memory_limit: 14626652160\n",
              " locality {\n",
              "   bus_id: 1\n",
              "   links {\n",
              "   }\n",
              " }\n",
              " incarnation: 16739779792491051115\n",
              " physical_device_desc: \"device: 0, name: Tesla T4, pci bus id: 0000:00:04.0, compute capability: 7.5\"\n",
              " xla_global_id: 416903419]"
            ]
          },
          "metadata": {},
          "execution_count": 3
        }
      ]
    },
    {
      "cell_type": "markdown",
      "source": [
        "**RAM Information**"
      ],
      "metadata": {
        "id": "zlbNU-JmGM-D"
      }
    },
    {
      "cell_type": "code",
      "source": [
        "!cat /proc/meminfo"
      ],
      "metadata": {
        "colab": {
          "base_uri": "https://localhost:8080/"
        },
        "id": "AbdyHkb5Eqxe",
        "outputId": "2c2f469b-4116-4042-ba10-74818ff5d373"
      },
      "execution_count": 4,
      "outputs": [
        {
          "output_type": "stream",
          "name": "stdout",
          "text": [
            "MemTotal:       13290452 kB\n",
            "MemFree:         6234180 kB\n",
            "MemAvailable:   11605472 kB\n",
            "Buffers:          421856 kB\n",
            "Cached:          5104964 kB\n",
            "SwapCached:            0 kB\n",
            "Active:          1175548 kB\n",
            "Inactive:        5390524 kB\n",
            "Active(anon):       1872 kB\n",
            "Inactive(anon):  1050832 kB\n",
            "Active(file):    1173676 kB\n",
            "Inactive(file):  4339692 kB\n",
            "Unevictable:          20 kB\n",
            "Mlocked:              20 kB\n",
            "SwapTotal:             0 kB\n",
            "SwapFree:              0 kB\n",
            "Dirty:               712 kB\n",
            "Writeback:             0 kB\n",
            "AnonPages:       1039344 kB\n",
            "Mapped:           840420 kB\n",
            "Shmem:             13440 kB\n",
            "KReclaimable:     183492 kB\n",
            "Slab:             244348 kB\n",
            "SReclaimable:     183492 kB\n",
            "SUnreclaim:        60856 kB\n",
            "KernelStack:        7724 kB\n",
            "PageTables:        14816 kB\n",
            "SecPageTables:         0 kB\n",
            "NFS_Unstable:          0 kB\n",
            "Bounce:                0 kB\n",
            "WritebackTmp:          0 kB\n",
            "CommitLimit:     6645224 kB\n",
            "Committed_AS:    4290948 kB\n",
            "VmallocTotal:   34359738367 kB\n",
            "VmallocUsed:       84620 kB\n",
            "VmallocChunk:          0 kB\n",
            "Percpu:             1160 kB\n",
            "HardwareCorrupted:     0 kB\n",
            "AnonHugePages:         0 kB\n",
            "ShmemHugePages:        0 kB\n",
            "ShmemPmdMapped:        0 kB\n",
            "FileHugePages:         0 kB\n",
            "FilePmdMapped:         0 kB\n",
            "CmaTotal:              0 kB\n",
            "CmaFree:               0 kB\n",
            "Unaccepted:            0 kB\n",
            "HugePages_Total:       0\n",
            "HugePages_Free:        0\n",
            "HugePages_Rsvd:        0\n",
            "HugePages_Surp:        0\n",
            "Hugepagesize:       2048 kB\n",
            "Hugetlb:               0 kB\n",
            "DirectMap4k:      316216 kB\n",
            "DirectMap2M:     8069120 kB\n",
            "DirectMap1G:     7340032 kB\n"
          ]
        }
      ]
    },
    {
      "cell_type": "markdown",
      "source": [
        "**Running ANN using GOOgle Colab**"
      ],
      "metadata": {
        "id": "h0rqhLnyHRlU"
      }
    },
    {
      "cell_type": "code",
      "source": [
        "!pip install -q keras"
      ],
      "metadata": {
        "id": "FmFHvf-7HcUP"
      },
      "execution_count": 1,
      "outputs": []
    },
    {
      "cell_type": "code",
      "source": [
        "import pandas as pd"
      ],
      "metadata": {
        "id": "YX1_tGOxIrh0"
      },
      "execution_count": 2,
      "outputs": []
    },
    {
      "cell_type": "code",
      "source": [
        "import numpy as np\n",
        "import matplotlib.pyplot as plt\n",
        "import pandas as pd\n",
        "dataset=pd.read_csv('/content/drive/MyDrive/ANN/Churn_Modelling.csv')\n",
        "x=dataset.iloc[:, 3:13]\n",
        "y=dataset.iloc[:, 13]\n",
        "\n",
        "## Create dummy Variable\n",
        "\n",
        "\n",
        "geography=pd.get_dummies(x[\"Geography\"],drop_first=True)\n",
        "gender=pd.get_dummies(x[\"Gender\"],drop_first=True)\n",
        "\n",
        "##Concatenate the data Frames\n",
        "\n",
        "x=pd.concat([x,geography,gender],axis=1)\n",
        "\n",
        "## drop unnecessary columns\n",
        "\n",
        "x=x.drop(['Geography','Gender'],axis=1)\n",
        "\n",
        "## splitting the dataset into the training set and test set\n",
        "\n",
        "from sklearn.model_selection import train_test_split\n",
        "x_train, x_test, y_train, y_test=train_test_split(x,y,test_size=0.2, random_state=0)\n",
        "\n",
        "\n",
        "#Feature Scalling\n",
        "\n",
        "from sklearn.preprocessing import StandardScaler\n",
        "sc=StandardScaler()\n",
        "x_train=sc.fit_transform(x_train)\n",
        "x_test=sc.transform(x_test)\n",
        "\n",
        "\n",
        "##part 2 now lets make the ann\n",
        "\n",
        "## importing the keras library and package\n",
        "\n",
        "import keras\n",
        "from keras.models import Sequential\n",
        "from keras.layers import Dense\n",
        "\n",
        "#rom keras.layers import LeakyReLU,PReLU,ELU\n",
        "from keras.layers import Dropout\n",
        "from keras.initializers import HeUniform\n",
        "\n",
        "##initialising the ANN\n",
        "\n",
        "classifier = Sequential()\n",
        "\n",
        "\n",
        "## adding the input layer and the first hidden layer\n",
        "\n",
        "from keras.layers import Input\n",
        "\n",
        "# Adding an Input layer before the Dense layers\n",
        "classifier.add(Input(shape=(11,)))  # shape=(11,) for 11 input features\n",
        "classifier.add(Dense(units=6, kernel_initializer=HeUniform(), activation='relu'))\n",
        "\n",
        "\n",
        "#lassifier.add(Dense(units=6, kernel_initializer='he_uniform',activation='relu',input_dim=11))\n",
        "# adding second hidden layer\n",
        "classifier.add(Dense(units=6, kernel_initializer=HeUniform(), activation='relu'))\n",
        "\n",
        "# Adding the output layer\n",
        "\n",
        "classifier.add(Dense(units=1, kernel_initializer='glorot_uniform', activation='sigmoid'))\n",
        "\n",
        "\n",
        "## Compiling the ANN\n",
        "\n",
        "classifier.compile(optimizer='Adamax', loss= 'binary_crossentropy', metrics = ['accuracy'])\n",
        "\n",
        "\n",
        "## Fittint the ANN to the traoining set\n",
        "\n",
        "model_history=classifier.fit(x_train,y_train,validation_split=0.33, batch_size=10, epochs= 100)\n",
        "\n",
        "#list all data in history\n",
        "\n",
        "print(model_history.history.keys())\n",
        "\n",
        "#summarize history for accuracy\n",
        "\n",
        "plt.plot(model_history.history['accuracy'])\n",
        "plt.plot(model_history.history['val_accuracy'])\n",
        "plt.title('model accuracy')\n",
        "plt.ylabel('accuracy')\n",
        "plt.xlabel('epoch')\n",
        "plt.legend(['train', 'test'], loc='upper left')\n",
        "plt.show()\n",
        "\n",
        "\n",
        "#making the predictions and evoluating the model\n",
        "\n",
        "# Predicting the test set result\n",
        "\n",
        "y_pred = classifier.predict(x_test)\n",
        "y_pred = (y_pred>0.5)\n",
        "\n",
        "#making the confusion matrix\n",
        "\n",
        "from sklearn.metrics import confusion_matrix\n",
        "cm=confusion_matrix(y_test,y_pred)\n",
        "print(cm)\n",
        "\n",
        "\n",
        "#Calculate the accuracy\n",
        "\n",
        "from sklearn.metrics import accuracy_score\n",
        "score=accuracy_score(y_pred,y_test)\n",
        "print(score)\n",
        ""
      ],
      "metadata": {
        "colab": {
          "base_uri": "https://localhost:8080/",
          "height": 1000
        },
        "id": "Zjzwf6SZI8Fq",
        "outputId": "09d98abb-a7c0-4ca6-89ee-eae586fdf09b"
      },
      "execution_count": 3,
      "outputs": [
        {
          "output_type": "stream",
          "name": "stdout",
          "text": [
            "Epoch 1/100\n",
            "536/536 [==============================] - 5s 5ms/step - loss: 0.5769 - accuracy: 0.7914 - val_loss: 0.5503 - val_accuracy: 0.7955\n",
            "Epoch 2/100\n",
            "536/536 [==============================] - 2s 5ms/step - loss: 0.5380 - accuracy: 0.7962 - val_loss: 0.5250 - val_accuracy: 0.7955\n",
            "Epoch 3/100\n",
            "536/536 [==============================] - 3s 6ms/step - loss: 0.5172 - accuracy: 0.7962 - val_loss: 0.5094 - val_accuracy: 0.7955\n",
            "Epoch 4/100\n",
            "536/536 [==============================] - 3s 6ms/step - loss: 0.5026 - accuracy: 0.7962 - val_loss: 0.4979 - val_accuracy: 0.7955\n",
            "Epoch 5/100\n",
            "536/536 [==============================] - 2s 4ms/step - loss: 0.4915 - accuracy: 0.7962 - val_loss: 0.4885 - val_accuracy: 0.7955\n",
            "Epoch 6/100\n",
            "536/536 [==============================] - 3s 5ms/step - loss: 0.4828 - accuracy: 0.7962 - val_loss: 0.4813 - val_accuracy: 0.7955\n",
            "Epoch 7/100\n",
            "536/536 [==============================] - 2s 5ms/step - loss: 0.4756 - accuracy: 0.7962 - val_loss: 0.4753 - val_accuracy: 0.7955\n",
            "Epoch 8/100\n",
            "536/536 [==============================] - 3s 5ms/step - loss: 0.4693 - accuracy: 0.7962 - val_loss: 0.4699 - val_accuracy: 0.7955\n",
            "Epoch 9/100\n",
            "536/536 [==============================] - 3s 6ms/step - loss: 0.4637 - accuracy: 0.7962 - val_loss: 0.4649 - val_accuracy: 0.7955\n",
            "Epoch 10/100\n",
            "536/536 [==============================] - 2s 5ms/step - loss: 0.4583 - accuracy: 0.7962 - val_loss: 0.4603 - val_accuracy: 0.7955\n",
            "Epoch 11/100\n",
            "536/536 [==============================] - 2s 4ms/step - loss: 0.4535 - accuracy: 0.7962 - val_loss: 0.4561 - val_accuracy: 0.7955\n",
            "Epoch 12/100\n",
            "536/536 [==============================] - 2s 4ms/step - loss: 0.4492 - accuracy: 0.7962 - val_loss: 0.4526 - val_accuracy: 0.7955\n",
            "Epoch 13/100\n",
            "536/536 [==============================] - 2s 4ms/step - loss: 0.4451 - accuracy: 0.7962 - val_loss: 0.4489 - val_accuracy: 0.7955\n",
            "Epoch 14/100\n",
            "536/536 [==============================] - 4s 7ms/step - loss: 0.4412 - accuracy: 0.7962 - val_loss: 0.4458 - val_accuracy: 0.7955\n",
            "Epoch 15/100\n",
            "536/536 [==============================] - 2s 4ms/step - loss: 0.4381 - accuracy: 0.7962 - val_loss: 0.4427 - val_accuracy: 0.7955\n",
            "Epoch 16/100\n",
            "536/536 [==============================] - 2s 4ms/step - loss: 0.4349 - accuracy: 0.7962 - val_loss: 0.4398 - val_accuracy: 0.7955\n",
            "Epoch 17/100\n",
            "536/536 [==============================] - 2s 4ms/step - loss: 0.4323 - accuracy: 0.7962 - val_loss: 0.4374 - val_accuracy: 0.7955\n",
            "Epoch 18/100\n",
            "536/536 [==============================] - 2s 5ms/step - loss: 0.4298 - accuracy: 0.7962 - val_loss: 0.4352 - val_accuracy: 0.7955\n",
            "Epoch 19/100\n",
            "536/536 [==============================] - 3s 6ms/step - loss: 0.4276 - accuracy: 0.7962 - val_loss: 0.4332 - val_accuracy: 0.7955\n",
            "Epoch 20/100\n",
            "536/536 [==============================] - 3s 6ms/step - loss: 0.4257 - accuracy: 0.7962 - val_loss: 0.4314 - val_accuracy: 0.7955\n",
            "Epoch 21/100\n",
            "536/536 [==============================] - 2s 4ms/step - loss: 0.4238 - accuracy: 0.7962 - val_loss: 0.4298 - val_accuracy: 0.7955\n",
            "Epoch 22/100\n",
            "536/536 [==============================] - 2s 4ms/step - loss: 0.4221 - accuracy: 0.7966 - val_loss: 0.4284 - val_accuracy: 0.8099\n",
            "Epoch 23/100\n",
            "536/536 [==============================] - 2s 4ms/step - loss: 0.4204 - accuracy: 0.8123 - val_loss: 0.4269 - val_accuracy: 0.8092\n",
            "Epoch 24/100\n",
            "536/536 [==============================] - 2s 5ms/step - loss: 0.4188 - accuracy: 0.8134 - val_loss: 0.4257 - val_accuracy: 0.8103\n",
            "Epoch 25/100\n",
            "536/536 [==============================] - 4s 7ms/step - loss: 0.4174 - accuracy: 0.8145 - val_loss: 0.4244 - val_accuracy: 0.8099\n",
            "Epoch 26/100\n",
            "536/536 [==============================] - 2s 5ms/step - loss: 0.4163 - accuracy: 0.8164 - val_loss: 0.4233 - val_accuracy: 0.8099\n",
            "Epoch 27/100\n",
            "536/536 [==============================] - 2s 4ms/step - loss: 0.4149 - accuracy: 0.8199 - val_loss: 0.4222 - val_accuracy: 0.8122\n",
            "Epoch 28/100\n",
            "536/536 [==============================] - 2s 4ms/step - loss: 0.4134 - accuracy: 0.8212 - val_loss: 0.4210 - val_accuracy: 0.8137\n",
            "Epoch 29/100\n",
            "536/536 [==============================] - 2s 4ms/step - loss: 0.4119 - accuracy: 0.8218 - val_loss: 0.4200 - val_accuracy: 0.8148\n",
            "Epoch 30/100\n",
            "536/536 [==============================] - 4s 7ms/step - loss: 0.4105 - accuracy: 0.8238 - val_loss: 0.4186 - val_accuracy: 0.8164\n",
            "Epoch 31/100\n",
            "536/536 [==============================] - 2s 4ms/step - loss: 0.4088 - accuracy: 0.8259 - val_loss: 0.4172 - val_accuracy: 0.8186\n",
            "Epoch 32/100\n",
            "536/536 [==============================] - 2s 4ms/step - loss: 0.4070 - accuracy: 0.8276 - val_loss: 0.4159 - val_accuracy: 0.8179\n",
            "Epoch 33/100\n",
            "536/536 [==============================] - 2s 4ms/step - loss: 0.4052 - accuracy: 0.8296 - val_loss: 0.4139 - val_accuracy: 0.8186\n",
            "Epoch 34/100\n",
            "536/536 [==============================] - 2s 4ms/step - loss: 0.4030 - accuracy: 0.8313 - val_loss: 0.4120 - val_accuracy: 0.8194\n",
            "Epoch 35/100\n",
            "536/536 [==============================] - 3s 6ms/step - loss: 0.4009 - accuracy: 0.8319 - val_loss: 0.4098 - val_accuracy: 0.8198\n",
            "Epoch 36/100\n",
            "536/536 [==============================] - 3s 6ms/step - loss: 0.3984 - accuracy: 0.8337 - val_loss: 0.4076 - val_accuracy: 0.8217\n",
            "Epoch 37/100\n",
            "536/536 [==============================] - 2s 5ms/step - loss: 0.3958 - accuracy: 0.8345 - val_loss: 0.4050 - val_accuracy: 0.8236\n",
            "Epoch 38/100\n",
            "536/536 [==============================] - 2s 4ms/step - loss: 0.3929 - accuracy: 0.8350 - val_loss: 0.4026 - val_accuracy: 0.8251\n",
            "Epoch 39/100\n",
            "536/536 [==============================] - 2s 4ms/step - loss: 0.3900 - accuracy: 0.8380 - val_loss: 0.4000 - val_accuracy: 0.8281\n",
            "Epoch 40/100\n",
            "536/536 [==============================] - 2s 4ms/step - loss: 0.3872 - accuracy: 0.8406 - val_loss: 0.3975 - val_accuracy: 0.8281\n",
            "Epoch 41/100\n",
            "536/536 [==============================] - 4s 7ms/step - loss: 0.3844 - accuracy: 0.8421 - val_loss: 0.3950 - val_accuracy: 0.8311\n",
            "Epoch 42/100\n",
            "536/536 [==============================] - 2s 4ms/step - loss: 0.3816 - accuracy: 0.8449 - val_loss: 0.3927 - val_accuracy: 0.8300\n",
            "Epoch 43/100\n",
            "536/536 [==============================] - 2s 5ms/step - loss: 0.3788 - accuracy: 0.8453 - val_loss: 0.3903 - val_accuracy: 0.8300\n",
            "Epoch 44/100\n",
            "536/536 [==============================] - 2s 5ms/step - loss: 0.3761 - accuracy: 0.8466 - val_loss: 0.3881 - val_accuracy: 0.8319\n",
            "Epoch 45/100\n",
            "536/536 [==============================] - 2s 4ms/step - loss: 0.3737 - accuracy: 0.8470 - val_loss: 0.3859 - val_accuracy: 0.8326\n",
            "Epoch 46/100\n",
            "536/536 [==============================] - 4s 7ms/step - loss: 0.3712 - accuracy: 0.8485 - val_loss: 0.3838 - val_accuracy: 0.8360\n",
            "Epoch 47/100\n",
            "536/536 [==============================] - 2s 4ms/step - loss: 0.3690 - accuracy: 0.8500 - val_loss: 0.3820 - val_accuracy: 0.8368\n",
            "Epoch 48/100\n",
            "536/536 [==============================] - 2s 5ms/step - loss: 0.3670 - accuracy: 0.8494 - val_loss: 0.3803 - val_accuracy: 0.8387\n",
            "Epoch 49/100\n",
            "536/536 [==============================] - 2s 5ms/step - loss: 0.3649 - accuracy: 0.8511 - val_loss: 0.3790 - val_accuracy: 0.8379\n",
            "Epoch 50/100\n",
            "536/536 [==============================] - 2s 4ms/step - loss: 0.3632 - accuracy: 0.8511 - val_loss: 0.3775 - val_accuracy: 0.8406\n",
            "Epoch 51/100\n",
            "536/536 [==============================] - 3s 6ms/step - loss: 0.3616 - accuracy: 0.8524 - val_loss: 0.3761 - val_accuracy: 0.8406\n",
            "Epoch 52/100\n",
            "536/536 [==============================] - 3s 6ms/step - loss: 0.3598 - accuracy: 0.8526 - val_loss: 0.3746 - val_accuracy: 0.8417\n",
            "Epoch 53/100\n",
            "536/536 [==============================] - 3s 5ms/step - loss: 0.3583 - accuracy: 0.8539 - val_loss: 0.3741 - val_accuracy: 0.8421\n",
            "Epoch 54/100\n",
            "536/536 [==============================] - 2s 4ms/step - loss: 0.3570 - accuracy: 0.8541 - val_loss: 0.3729 - val_accuracy: 0.8429\n",
            "Epoch 55/100\n",
            "536/536 [==============================] - 2s 5ms/step - loss: 0.3559 - accuracy: 0.8550 - val_loss: 0.3719 - val_accuracy: 0.8432\n",
            "Epoch 56/100\n",
            "536/536 [==============================] - 3s 6ms/step - loss: 0.3547 - accuracy: 0.8548 - val_loss: 0.3710 - val_accuracy: 0.8436\n",
            "Epoch 57/100\n",
            "536/536 [==============================] - 3s 6ms/step - loss: 0.3536 - accuracy: 0.8550 - val_loss: 0.3706 - val_accuracy: 0.8448\n",
            "Epoch 58/100\n",
            "536/536 [==============================] - 2s 4ms/step - loss: 0.3528 - accuracy: 0.8556 - val_loss: 0.3700 - val_accuracy: 0.8444\n",
            "Epoch 59/100\n",
            "536/536 [==============================] - 2s 4ms/step - loss: 0.3519 - accuracy: 0.8565 - val_loss: 0.3691 - val_accuracy: 0.8455\n",
            "Epoch 60/100\n",
            "536/536 [==============================] - 2s 4ms/step - loss: 0.3512 - accuracy: 0.8565 - val_loss: 0.3687 - val_accuracy: 0.8463\n",
            "Epoch 61/100\n",
            "536/536 [==============================] - 2s 5ms/step - loss: 0.3505 - accuracy: 0.8558 - val_loss: 0.3681 - val_accuracy: 0.8440\n",
            "Epoch 62/100\n",
            "536/536 [==============================] - 4s 7ms/step - loss: 0.3497 - accuracy: 0.8548 - val_loss: 0.3678 - val_accuracy: 0.8463\n",
            "Epoch 63/100\n",
            "536/536 [==============================] - 3s 5ms/step - loss: 0.3491 - accuracy: 0.8556 - val_loss: 0.3672 - val_accuracy: 0.8451\n",
            "Epoch 64/100\n",
            "536/536 [==============================] - 3s 5ms/step - loss: 0.3484 - accuracy: 0.8569 - val_loss: 0.3665 - val_accuracy: 0.8463\n",
            "Epoch 65/100\n",
            "536/536 [==============================] - 2s 4ms/step - loss: 0.3477 - accuracy: 0.8572 - val_loss: 0.3659 - val_accuracy: 0.8455\n",
            "Epoch 66/100\n",
            "536/536 [==============================] - 2s 4ms/step - loss: 0.3471 - accuracy: 0.8572 - val_loss: 0.3656 - val_accuracy: 0.8451\n",
            "Epoch 67/100\n",
            "536/536 [==============================] - 4s 7ms/step - loss: 0.3466 - accuracy: 0.8576 - val_loss: 0.3650 - val_accuracy: 0.8455\n",
            "Epoch 68/100\n",
            "536/536 [==============================] - 2s 5ms/step - loss: 0.3461 - accuracy: 0.8580 - val_loss: 0.3649 - val_accuracy: 0.8455\n",
            "Epoch 69/100\n",
            "536/536 [==============================] - 2s 4ms/step - loss: 0.3456 - accuracy: 0.8578 - val_loss: 0.3644 - val_accuracy: 0.8459\n",
            "Epoch 70/100\n",
            "536/536 [==============================] - 2s 4ms/step - loss: 0.3450 - accuracy: 0.8587 - val_loss: 0.3642 - val_accuracy: 0.8451\n",
            "Epoch 71/100\n",
            "536/536 [==============================] - 2s 4ms/step - loss: 0.3446 - accuracy: 0.8587 - val_loss: 0.3637 - val_accuracy: 0.8444\n",
            "Epoch 72/100\n",
            "536/536 [==============================] - 3s 6ms/step - loss: 0.3442 - accuracy: 0.8586 - val_loss: 0.3636 - val_accuracy: 0.8444\n",
            "Epoch 73/100\n",
            "536/536 [==============================] - 3s 6ms/step - loss: 0.3437 - accuracy: 0.8593 - val_loss: 0.3633 - val_accuracy: 0.8432\n",
            "Epoch 74/100\n",
            "536/536 [==============================] - 2s 4ms/step - loss: 0.3434 - accuracy: 0.8599 - val_loss: 0.3630 - val_accuracy: 0.8444\n",
            "Epoch 75/100\n",
            "536/536 [==============================] - 2s 5ms/step - loss: 0.3431 - accuracy: 0.8584 - val_loss: 0.3630 - val_accuracy: 0.8448\n",
            "Epoch 76/100\n",
            "536/536 [==============================] - 2s 5ms/step - loss: 0.3426 - accuracy: 0.8599 - val_loss: 0.3626 - val_accuracy: 0.8459\n",
            "Epoch 77/100\n",
            "536/536 [==============================] - 3s 5ms/step - loss: 0.3423 - accuracy: 0.8597 - val_loss: 0.3625 - val_accuracy: 0.8448\n",
            "Epoch 78/100\n",
            "536/536 [==============================] - 3s 6ms/step - loss: 0.3421 - accuracy: 0.8587 - val_loss: 0.3620 - val_accuracy: 0.8455\n",
            "Epoch 79/100\n",
            "536/536 [==============================] - 3s 5ms/step - loss: 0.3418 - accuracy: 0.8597 - val_loss: 0.3619 - val_accuracy: 0.8459\n",
            "Epoch 80/100\n",
            "536/536 [==============================] - 2s 4ms/step - loss: 0.3415 - accuracy: 0.8604 - val_loss: 0.3614 - val_accuracy: 0.8444\n",
            "Epoch 81/100\n",
            "536/536 [==============================] - 2s 4ms/step - loss: 0.3413 - accuracy: 0.8597 - val_loss: 0.3619 - val_accuracy: 0.8455\n",
            "Epoch 82/100\n",
            "536/536 [==============================] - 2s 5ms/step - loss: 0.3409 - accuracy: 0.8597 - val_loss: 0.3613 - val_accuracy: 0.8455\n",
            "Epoch 83/100\n",
            "536/536 [==============================] - 4s 7ms/step - loss: 0.3407 - accuracy: 0.8597 - val_loss: 0.3610 - val_accuracy: 0.8466\n",
            "Epoch 84/100\n",
            "536/536 [==============================] - 2s 5ms/step - loss: 0.3404 - accuracy: 0.8586 - val_loss: 0.3609 - val_accuracy: 0.8463\n",
            "Epoch 85/100\n",
            "536/536 [==============================] - 2s 5ms/step - loss: 0.3403 - accuracy: 0.8604 - val_loss: 0.3611 - val_accuracy: 0.8451\n",
            "Epoch 86/100\n",
            "536/536 [==============================] - 2s 4ms/step - loss: 0.3401 - accuracy: 0.8595 - val_loss: 0.3612 - val_accuracy: 0.8459\n",
            "Epoch 87/100\n",
            "536/536 [==============================] - 2s 4ms/step - loss: 0.3397 - accuracy: 0.8602 - val_loss: 0.3607 - val_accuracy: 0.8451\n",
            "Epoch 88/100\n",
            "536/536 [==============================] - 3s 6ms/step - loss: 0.3396 - accuracy: 0.8593 - val_loss: 0.3610 - val_accuracy: 0.8459\n",
            "Epoch 89/100\n",
            "536/536 [==============================] - 3s 5ms/step - loss: 0.3394 - accuracy: 0.8599 - val_loss: 0.3608 - val_accuracy: 0.8455\n",
            "Epoch 90/100\n",
            "536/536 [==============================] - 2s 4ms/step - loss: 0.3391 - accuracy: 0.8610 - val_loss: 0.3607 - val_accuracy: 0.8459\n",
            "Epoch 91/100\n",
            "536/536 [==============================] - 2s 4ms/step - loss: 0.3390 - accuracy: 0.8602 - val_loss: 0.3605 - val_accuracy: 0.8455\n",
            "Epoch 92/100\n",
            "536/536 [==============================] - 2s 4ms/step - loss: 0.3388 - accuracy: 0.8619 - val_loss: 0.3602 - val_accuracy: 0.8474\n",
            "Epoch 93/100\n",
            "536/536 [==============================] - 3s 6ms/step - loss: 0.3387 - accuracy: 0.8610 - val_loss: 0.3603 - val_accuracy: 0.8459\n",
            "Epoch 94/100\n",
            "536/536 [==============================] - 3s 6ms/step - loss: 0.3385 - accuracy: 0.8612 - val_loss: 0.3598 - val_accuracy: 0.8466\n",
            "Epoch 95/100\n",
            "536/536 [==============================] - 3s 5ms/step - loss: 0.3384 - accuracy: 0.8615 - val_loss: 0.3602 - val_accuracy: 0.8474\n",
            "Epoch 96/100\n",
            "536/536 [==============================] - 2s 4ms/step - loss: 0.3382 - accuracy: 0.8614 - val_loss: 0.3595 - val_accuracy: 0.8470\n",
            "Epoch 97/100\n",
            "536/536 [==============================] - 2s 4ms/step - loss: 0.3380 - accuracy: 0.8612 - val_loss: 0.3595 - val_accuracy: 0.8470\n",
            "Epoch 98/100\n",
            "536/536 [==============================] - 2s 5ms/step - loss: 0.3378 - accuracy: 0.8623 - val_loss: 0.3594 - val_accuracy: 0.8478\n",
            "Epoch 99/100\n",
            "536/536 [==============================] - 3s 6ms/step - loss: 0.3377 - accuracy: 0.8621 - val_loss: 0.3598 - val_accuracy: 0.8474\n",
            "Epoch 100/100\n",
            "536/536 [==============================] - 3s 5ms/step - loss: 0.3375 - accuracy: 0.8614 - val_loss: 0.3589 - val_accuracy: 0.8493\n",
            "dict_keys(['loss', 'accuracy', 'val_loss', 'val_accuracy'])\n"
          ]
        },
        {
          "output_type": "display_data",
          "data": {
            "text/plain": [
              "<Figure size 640x480 with 1 Axes>"
            ],
            "image/png": "[encoded data removed]"
          },
          "metadata": {}
        },
        {
          "output_type": "stream",
          "name": "stdout",
          "text": [
            "63/63 [==============================] - 0s 2ms/step\n",
            "[[1526   69]\n",
            " [ 211  194]]\n",
            "0.86\n"
          ]
        }
      ]
    },
    {
      "cell_type": "code",
      "source": [],
      "metadata": {
        "id": "OhsW7b8NMfG7"
      },
      "execution_count": null,
      "outputs": []
    }
  ]
}